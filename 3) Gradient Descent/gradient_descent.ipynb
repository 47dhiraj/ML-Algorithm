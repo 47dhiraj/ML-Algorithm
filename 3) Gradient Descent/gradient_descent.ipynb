{
 "cells": [
  {
   "cell_type": "code",
   "execution_count": 1,
   "metadata": {},
   "outputs": [],
   "source": []
  },
  {
   "cell_type": "code",
   "execution_count": 2,
   "metadata": {},
   "outputs": [],
   "source": [
    "import pandas as pd\n",
    "import matplotlib.pyplot as plt"
   ]
  },
  {
   "cell_type": "code",
   "execution_count": 3,
   "metadata": {},
   "outputs": [
    {
     "data": {
      "text/html": [
       "<div>\n",
       "<style scoped>\n",
       "    .dataframe tbody tr th:only-of-type {\n",
       "        vertical-align: middle;\n",
       "    }\n",
       "\n",
       "    .dataframe tbody tr th {\n",
       "        vertical-align: top;\n",
       "    }\n",
       "\n",
       "    .dataframe thead th {\n",
       "        text-align: right;\n",
       "    }\n",
       "</style>\n",
       "<table border=\"1\" class=\"dataframe\">\n",
       "  <thead>\n",
       "    <tr style=\"text-align: right;\">\n",
       "      <th></th>\n",
       "      <th>Hours</th>\n",
       "      <th>Scores</th>\n",
       "      <th>Pass</th>\n",
       "    </tr>\n",
       "  </thead>\n",
       "  <tbody>\n",
       "    <tr>\n",
       "      <th>0</th>\n",
       "      <td>2.3</td>\n",
       "      <td>18</td>\n",
       "      <td>0</td>\n",
       "    </tr>\n",
       "    <tr>\n",
       "      <th>1</th>\n",
       "      <td>5.0</td>\n",
       "      <td>45</td>\n",
       "      <td>1</td>\n",
       "    </tr>\n",
       "    <tr>\n",
       "      <th>2</th>\n",
       "      <td>3.2</td>\n",
       "      <td>25</td>\n",
       "      <td>0</td>\n",
       "    </tr>\n",
       "    <tr>\n",
       "      <th>3</th>\n",
       "      <td>8.5</td>\n",
       "      <td>72</td>\n",
       "      <td>1</td>\n",
       "    </tr>\n",
       "    <tr>\n",
       "      <th>4</th>\n",
       "      <td>3.5</td>\n",
       "      <td>30</td>\n",
       "      <td>0</td>\n",
       "    </tr>\n",
       "    <tr>\n",
       "      <th>5</th>\n",
       "      <td>1.5</td>\n",
       "      <td>20</td>\n",
       "      <td>0</td>\n",
       "    </tr>\n",
       "    <tr>\n",
       "      <th>6</th>\n",
       "      <td>9.2</td>\n",
       "      <td>88</td>\n",
       "      <td>1</td>\n",
       "    </tr>\n",
       "    <tr>\n",
       "      <th>7</th>\n",
       "      <td>5.5</td>\n",
       "      <td>60</td>\n",
       "      <td>1</td>\n",
       "    </tr>\n",
       "    <tr>\n",
       "      <th>8</th>\n",
       "      <td>8.3</td>\n",
       "      <td>81</td>\n",
       "      <td>1</td>\n",
       "    </tr>\n",
       "    <tr>\n",
       "      <th>9</th>\n",
       "      <td>2.7</td>\n",
       "      <td>25</td>\n",
       "      <td>0</td>\n",
       "    </tr>\n",
       "    <tr>\n",
       "      <th>10</th>\n",
       "      <td>7.7</td>\n",
       "      <td>85</td>\n",
       "      <td>1</td>\n",
       "    </tr>\n",
       "    <tr>\n",
       "      <th>11</th>\n",
       "      <td>5.9</td>\n",
       "      <td>62</td>\n",
       "      <td>1</td>\n",
       "    </tr>\n",
       "    <tr>\n",
       "      <th>12</th>\n",
       "      <td>4.5</td>\n",
       "      <td>41</td>\n",
       "      <td>1</td>\n",
       "    </tr>\n",
       "    <tr>\n",
       "      <th>13</th>\n",
       "      <td>3.4</td>\n",
       "      <td>44</td>\n",
       "      <td>1</td>\n",
       "    </tr>\n",
       "    <tr>\n",
       "      <th>14</th>\n",
       "      <td>1.1</td>\n",
       "      <td>17</td>\n",
       "      <td>0</td>\n",
       "    </tr>\n",
       "    <tr>\n",
       "      <th>15</th>\n",
       "      <td>8.9</td>\n",
       "      <td>95</td>\n",
       "      <td>1</td>\n",
       "    </tr>\n",
       "    <tr>\n",
       "      <th>16</th>\n",
       "      <td>2.5</td>\n",
       "      <td>30</td>\n",
       "      <td>0</td>\n",
       "    </tr>\n",
       "    <tr>\n",
       "      <th>17</th>\n",
       "      <td>1.9</td>\n",
       "      <td>24</td>\n",
       "      <td>0</td>\n",
       "    </tr>\n",
       "    <tr>\n",
       "      <th>18</th>\n",
       "      <td>6.1</td>\n",
       "      <td>67</td>\n",
       "      <td>1</td>\n",
       "    </tr>\n",
       "    <tr>\n",
       "      <th>19</th>\n",
       "      <td>7.4</td>\n",
       "      <td>69</td>\n",
       "      <td>1</td>\n",
       "    </tr>\n",
       "    <tr>\n",
       "      <th>20</th>\n",
       "      <td>2.7</td>\n",
       "      <td>30</td>\n",
       "      <td>0</td>\n",
       "    </tr>\n",
       "    <tr>\n",
       "      <th>21</th>\n",
       "      <td>4.8</td>\n",
       "      <td>54</td>\n",
       "      <td>1</td>\n",
       "    </tr>\n",
       "    <tr>\n",
       "      <th>22</th>\n",
       "      <td>3.7</td>\n",
       "      <td>33</td>\n",
       "      <td>0</td>\n",
       "    </tr>\n",
       "    <tr>\n",
       "      <th>23</th>\n",
       "      <td>6.8</td>\n",
       "      <td>70</td>\n",
       "      <td>1</td>\n",
       "    </tr>\n",
       "    <tr>\n",
       "      <th>24</th>\n",
       "      <td>7.4</td>\n",
       "      <td>85</td>\n",
       "      <td>1</td>\n",
       "    </tr>\n",
       "  </tbody>\n",
       "</table>\n",
       "</div>"
      ],
      "text/plain": [
       "    Hours  Scores  Pass\n",
       "0     2.3      18     0\n",
       "1     5.0      45     1\n",
       "2     3.2      25     0\n",
       "3     8.5      72     1\n",
       "4     3.5      30     0\n",
       "5     1.5      20     0\n",
       "6     9.2      88     1\n",
       "7     5.5      60     1\n",
       "8     8.3      81     1\n",
       "9     2.7      25     0\n",
       "10    7.7      85     1\n",
       "11    5.9      62     1\n",
       "12    4.5      41     1\n",
       "13    3.4      44     1\n",
       "14    1.1      17     0\n",
       "15    8.9      95     1\n",
       "16    2.5      30     0\n",
       "17    1.9      24     0\n",
       "18    6.1      67     1\n",
       "19    7.4      69     1\n",
       "20    2.7      30     0\n",
       "21    4.8      54     1\n",
       "22    3.7      33     0\n",
       "23    6.8      70     1\n",
       "24    7.4      85     1"
      ]
     },
     "execution_count": 3,
     "metadata": {},
     "output_type": "execute_result"
    }
   ],
   "source": [
    "df = pd.read_csv(\"student_scores.csv\")\n",
    "df"
   ]
  },
  {
   "cell_type": "code",
   "execution_count": 4,
   "metadata": {},
   "outputs": [
    {
     "data": {
      "application/javascript": "/* Put everything inside the global mpl namespace */\nwindow.mpl = {};\n\n\nmpl.get_websocket_type = function() {\n    if (typeof(WebSocket) !== 'undefined') {\n        return WebSocket;\n    } else if (typeof(MozWebSocket) !== 'undefined') {\n        return MozWebSocket;\n    } else {\n        alert('Your browser does not have WebSocket support. ' +\n              'Please try Chrome, Safari or Firefox ≥ 6. ' +\n              'Firefox 4 and 5 are also supported but you ' +\n              'have to enable WebSockets in about:config.');\n    };\n}\n\nmpl.figure = function(figure_id, websocket, ondownload, parent_element) {\n    this.id = figure_id;\n\n    this.ws = websocket;\n\n    this.supports_binary = (this.ws.binaryType != undefined);\n\n    if (!this.supports_binary) {\n        var warnings = document.getElementById(\"mpl-warnings\");\n        if (warnings) {\n            warnings.style.display = 'block';\n            warnings.textContent = (\n                \"This browser does not support binary websocket messages. \" +\n                    \"Performance may be slow.\");\n        }\n    }\n\n    this.imageObj = new Image();\n\n    this.context = undefined;\n    this.message = undefined;\n    this.canvas = undefined;\n    this.rubberband_canvas = undefined;\n    this.rubberband_context = undefined;\n    this.format_dropdown = undefined;\n\n    this.image_mode = 'full';\n\n    this.root = $('<div/>');\n    this._root_extra_style(this.root)\n    this.root.attr('style', 'display: inline-block');\n\n    $(parent_element).append(this.root);\n\n    this._init_header(this);\n    this._init_canvas(this);\n    this._init_toolbar(this);\n\n    var fig = this;\n\n    this.waiting = false;\n\n    this.ws.onopen =  function () {\n            fig.send_message(\"supports_binary\", {value: fig.supports_binary});\n            fig.send_message(\"send_image_mode\", {});\n            if (mpl.ratio != 1) {\n                fig.send_message(\"set_dpi_ratio\", {'dpi_ratio': mpl.ratio});\n            }\n            fig.send_message(\"refresh\", {});\n        }\n\n    this.imageObj.onload = function() {\n            if (fig.image_mode == 'full') {\n                // Full images could contain transparency (where diff images\n                // almost always do), so we need to clear the canvas so that\n                // there is no ghosting.\n                fig.context.clearRect(0, 0, fig.canvas.width, fig.canvas.height);\n            }\n            fig.context.drawImage(fig.imageObj, 0, 0);\n        };\n\n    this.imageObj.onunload = function() {\n        fig.ws.close();\n    }\n\n    this.ws.onmessage = this._make_on_message_function(this);\n\n    this.ondownload = ondownload;\n}\n\nmpl.figure.prototype._init_header = function() {\n    var titlebar = $(\n        '<div class=\"ui-dialog-titlebar ui-widget-header ui-corner-all ' +\n        'ui-helper-clearfix\"/>');\n    var titletext = $(\n        '<div class=\"ui-dialog-title\" style=\"width: 100%; ' +\n        'text-align: center; padding: 3px;\"/>');\n    titlebar.append(titletext)\n    this.root.append(titlebar);\n    this.header = titletext[0];\n}\n\n\n\nmpl.figure.prototype._canvas_extra_style = function(canvas_div) {\n\n}\n\n\nmpl.figure.prototype._root_extra_style = function(canvas_div) {\n\n}\n\nmpl.figure.prototype._init_canvas = function() {\n    var fig = this;\n\n    var canvas_div = $('<div/>');\n\n    canvas_div.attr('style', 'position: relative; clear: both; outline: 0');\n\n    function canvas_keyboard_event(event) {\n        return fig.key_event(event, event['data']);\n    }\n\n    canvas_div.keydown('key_press', canvas_keyboard_event);\n    canvas_div.keyup('key_release', canvas_keyboard_event);\n    this.canvas_div = canvas_div\n    this._canvas_extra_style(canvas_div)\n    this.root.append(canvas_div);\n\n    var canvas = $('<canvas/>');\n    canvas.addClass('mpl-canvas');\n    canvas.attr('style', \"left: 0; top: 0; z-index: 0; outline: 0\")\n\n    this.canvas = canvas[0];\n    this.context = canvas[0].getContext(\"2d\");\n\n    var backingStore = this.context.backingStorePixelRatio ||\n\tthis.context.webkitBackingStorePixelRatio ||\n\tthis.context.mozBackingStorePixelRatio ||\n\tthis.context.msBackingStorePixelRatio ||\n\tthis.context.oBackingStorePixelRatio ||\n\tthis.context.backingStorePixelRatio || 1;\n\n    mpl.ratio = (window.devicePixelRatio || 1) / backingStore;\n\n    var rubberband = $('<canvas/>');\n    rubberband.attr('style', \"position: absolute; left: 0; top: 0; z-index: 1;\")\n\n    var pass_mouse_events = true;\n\n    canvas_div.resizable({\n        start: function(event, ui) {\n            pass_mouse_events = false;\n        },\n        resize: function(event, ui) {\n            fig.request_resize(ui.size.width, ui.size.height);\n        },\n        stop: function(event, ui) {\n            pass_mouse_events = true;\n            fig.request_resize(ui.size.width, ui.size.height);\n        },\n    });\n\n    function mouse_event_fn(event) {\n        if (pass_mouse_events)\n            return fig.mouse_event(event, event['data']);\n    }\n\n    rubberband.mousedown('button_press', mouse_event_fn);\n    rubberband.mouseup('button_release', mouse_event_fn);\n    // Throttle sequential mouse events to 1 every 20ms.\n    rubberband.mousemove('motion_notify', mouse_event_fn);\n\n    rubberband.mouseenter('figure_enter', mouse_event_fn);\n    rubberband.mouseleave('figure_leave', mouse_event_fn);\n\n    canvas_div.on(\"wheel\", function (event) {\n        event = event.originalEvent;\n        event['data'] = 'scroll'\n        if (event.deltaY < 0) {\n            event.step = 1;\n        } else {\n            event.step = -1;\n        }\n        mouse_event_fn(event);\n    });\n\n    canvas_div.append(canvas);\n    canvas_div.append(rubberband);\n\n    this.rubberband = rubberband;\n    this.rubberband_canvas = rubberband[0];\n    this.rubberband_context = rubberband[0].getContext(\"2d\");\n    this.rubberband_context.strokeStyle = \"#000000\";\n\n    this._resize_canvas = function(width, height) {\n        // Keep the size of the canvas, canvas container, and rubber band\n        // canvas in synch.\n        canvas_div.css('width', width)\n        canvas_div.css('height', height)\n\n        canvas.attr('width', width * mpl.ratio);\n        canvas.attr('height', height * mpl.ratio);\n        canvas.attr('style', 'width: ' + width + 'px; height: ' + height + 'px;');\n\n        rubberband.attr('width', width);\n        rubberband.attr('height', height);\n    }\n\n    // Set the figure to an initial 600x600px, this will subsequently be updated\n    // upon first draw.\n    this._resize_canvas(600, 600);\n\n    // Disable right mouse context menu.\n    $(this.rubberband_canvas).bind(\"contextmenu\",function(e){\n        return false;\n    });\n\n    function set_focus () {\n        canvas.focus();\n        canvas_div.focus();\n    }\n\n    window.setTimeout(set_focus, 100);\n}\n\nmpl.figure.prototype._init_toolbar = function() {\n    var fig = this;\n\n    var nav_element = $('<div/>');\n    nav_element.attr('style', 'width: 100%');\n    this.root.append(nav_element);\n\n    // Define a callback function for later on.\n    function toolbar_event(event) {\n        return fig.toolbar_button_onclick(event['data']);\n    }\n    function toolbar_mouse_event(event) {\n        return fig.toolbar_button_onmouseover(event['data']);\n    }\n\n    for(var toolbar_ind in mpl.toolbar_items) {\n        var name = mpl.toolbar_items[toolbar_ind][0];\n        var tooltip = mpl.toolbar_items[toolbar_ind][1];\n        var image = mpl.toolbar_items[toolbar_ind][2];\n        var method_name = mpl.toolbar_items[toolbar_ind][3];\n\n        if (!name) {\n            // put a spacer in here.\n            continue;\n        }\n        var button = $('<button/>');\n        button.addClass('ui-button ui-widget ui-state-default ui-corner-all ' +\n                        'ui-button-icon-only');\n        button.attr('role', 'button');\n        button.attr('aria-disabled', 'false');\n        button.click(method_name, toolbar_event);\n        button.mouseover(tooltip, toolbar_mouse_event);\n\n        var icon_img = $('<span/>');\n        icon_img.addClass('ui-button-icon-primary ui-icon');\n        icon_img.addClass(image);\n        icon_img.addClass('ui-corner-all');\n\n        var tooltip_span = $('<span/>');\n        tooltip_span.addClass('ui-button-text');\n        tooltip_span.html(tooltip);\n\n        button.append(icon_img);\n        button.append(tooltip_span);\n\n        nav_element.append(button);\n    }\n\n    var fmt_picker_span = $('<span/>');\n\n    var fmt_picker = $('<select/>');\n    fmt_picker.addClass('mpl-toolbar-option ui-widget ui-widget-content');\n    fmt_picker_span.append(fmt_picker);\n    nav_element.append(fmt_picker_span);\n    this.format_dropdown = fmt_picker[0];\n\n    for (var ind in mpl.extensions) {\n        var fmt = mpl.extensions[ind];\n        var option = $(\n            '<option/>', {selected: fmt === mpl.default_extension}).html(fmt);\n        fmt_picker.append(option);\n    }\n\n    // Add hover states to the ui-buttons\n    $( \".ui-button\" ).hover(\n        function() { $(this).addClass(\"ui-state-hover\");},\n        function() { $(this).removeClass(\"ui-state-hover\");}\n    );\n\n    var status_bar = $('<span class=\"mpl-message\"/>');\n    nav_element.append(status_bar);\n    this.message = status_bar[0];\n}\n\nmpl.figure.prototype.request_resize = function(x_pixels, y_pixels) {\n    // Request matplotlib to resize the figure. Matplotlib will then trigger a resize in the client,\n    // which will in turn request a refresh of the image.\n    this.send_message('resize', {'width': x_pixels, 'height': y_pixels});\n}\n\nmpl.figure.prototype.send_message = function(type, properties) {\n    properties['type'] = type;\n    properties['figure_id'] = this.id;\n    this.ws.send(JSON.stringify(properties));\n}\n\nmpl.figure.prototype.send_draw_message = function() {\n    if (!this.waiting) {\n        this.waiting = true;\n        this.ws.send(JSON.stringify({type: \"draw\", figure_id: this.id}));\n    }\n}\n\n\nmpl.figure.prototype.handle_save = function(fig, msg) {\n    var format_dropdown = fig.format_dropdown;\n    var format = format_dropdown.options[format_dropdown.selectedIndex].value;\n    fig.ondownload(fig, format);\n}\n\n\nmpl.figure.prototype.handle_resize = function(fig, msg) {\n    var size = msg['size'];\n    if (size[0] != fig.canvas.width || size[1] != fig.canvas.height) {\n        fig._resize_canvas(size[0], size[1]);\n        fig.send_message(\"refresh\", {});\n    };\n}\n\nmpl.figure.prototype.handle_rubberband = function(fig, msg) {\n    var x0 = msg['x0'] / mpl.ratio;\n    var y0 = (fig.canvas.height - msg['y0']) / mpl.ratio;\n    var x1 = msg['x1'] / mpl.ratio;\n    var y1 = (fig.canvas.height - msg['y1']) / mpl.ratio;\n    x0 = Math.floor(x0) + 0.5;\n    y0 = Math.floor(y0) + 0.5;\n    x1 = Math.floor(x1) + 0.5;\n    y1 = Math.floor(y1) + 0.5;\n    var min_x = Math.min(x0, x1);\n    var min_y = Math.min(y0, y1);\n    var width = Math.abs(x1 - x0);\n    var height = Math.abs(y1 - y0);\n\n    fig.rubberband_context.clearRect(\n        0, 0, fig.canvas.width / mpl.ratio, fig.canvas.height / mpl.ratio);\n\n    fig.rubberband_context.strokeRect(min_x, min_y, width, height);\n}\n\nmpl.figure.prototype.handle_figure_label = function(fig, msg) {\n    // Updates the figure title.\n    fig.header.textContent = msg['label'];\n}\n\nmpl.figure.prototype.handle_cursor = function(fig, msg) {\n    var cursor = msg['cursor'];\n    switch(cursor)\n    {\n    case 0:\n        cursor = 'pointer';\n        break;\n    case 1:\n        cursor = 'default';\n        break;\n    case 2:\n        cursor = 'crosshair';\n        break;\n    case 3:\n        cursor = 'move';\n        break;\n    }\n    fig.rubberband_canvas.style.cursor = cursor;\n}\n\nmpl.figure.prototype.handle_message = function(fig, msg) {\n    fig.message.textContent = msg['message'];\n}\n\nmpl.figure.prototype.handle_draw = function(fig, msg) {\n    // Request the server to send over a new figure.\n    fig.send_draw_message();\n}\n\nmpl.figure.prototype.handle_image_mode = function(fig, msg) {\n    fig.image_mode = msg['mode'];\n}\n\nmpl.figure.prototype.updated_canvas_event = function() {\n    // Called whenever the canvas gets updated.\n    this.send_message(\"ack\", {});\n}\n\n// A function to construct a web socket function for onmessage handling.\n// Called in the figure constructor.\nmpl.figure.prototype._make_on_message_function = function(fig) {\n    return function socket_on_message(evt) {\n        if (evt.data instanceof Blob) {\n            /* FIXME: We get \"Resource interpreted as Image but\n             * transferred with MIME type text/plain:\" errors on\n             * Chrome.  But how to set the MIME type?  It doesn't seem\n             * to be part of the websocket stream */\n            evt.data.type = \"image/png\";\n\n            /* Free the memory for the previous frames */\n            if (fig.imageObj.src) {\n                (window.URL || window.webkitURL).revokeObjectURL(\n                    fig.imageObj.src);\n            }\n\n            fig.imageObj.src = (window.URL || window.webkitURL).createObjectURL(\n                evt.data);\n            fig.updated_canvas_event();\n            fig.waiting = false;\n            return;\n        }\n        else if (typeof evt.data === 'string' && evt.data.slice(0, 21) == \"data:image/png;base64\") {\n            fig.imageObj.src = evt.data;\n            fig.updated_canvas_event();\n            fig.waiting = false;\n            return;\n        }\n\n        var msg = JSON.parse(evt.data);\n        var msg_type = msg['type'];\n\n        // Call the  \"handle_{type}\" callback, which takes\n        // the figure and JSON message as its only arguments.\n        try {\n            var callback = fig[\"handle_\" + msg_type];\n        } catch (e) {\n            console.log(\"No handler for the '\" + msg_type + \"' message type: \", msg);\n            return;\n        }\n\n        if (callback) {\n            try {\n                // console.log(\"Handling '\" + msg_type + \"' message: \", msg);\n                callback(fig, msg);\n            } catch (e) {\n                console.log(\"Exception inside the 'handler_\" + msg_type + \"' callback:\", e, e.stack, msg);\n            }\n        }\n    };\n}\n\n// from http://stackoverflow.com/questions/1114465/getting-mouse-location-in-canvas\nmpl.findpos = function(e) {\n    //this section is from http://www.quirksmode.org/js/events_properties.html\n    var targ;\n    if (!e)\n        e = window.event;\n    if (e.target)\n        targ = e.target;\n    else if (e.srcElement)\n        targ = e.srcElement;\n    if (targ.nodeType == 3) // defeat Safari bug\n        targ = targ.parentNode;\n\n    // jQuery normalizes the pageX and pageY\n    // pageX,Y are the mouse positions relative to the document\n    // offset() returns the position of the element relative to the document\n    var x = e.pageX - $(targ).offset().left;\n    var y = e.pageY - $(targ).offset().top;\n\n    return {\"x\": x, \"y\": y};\n};\n\n/*\n * return a copy of an object with only non-object keys\n * we need this to avoid circular references\n * http://stackoverflow.com/a/24161582/3208463\n */\nfunction simpleKeys (original) {\n  return Object.keys(original).reduce(function (obj, key) {\n    if (typeof original[key] !== 'object')\n        obj[key] = original[key]\n    return obj;\n  }, {});\n}\n\nmpl.figure.prototype.mouse_event = function(event, name) {\n    var canvas_pos = mpl.findpos(event)\n\n    if (name === 'button_press')\n    {\n        this.canvas.focus();\n        this.canvas_div.focus();\n    }\n\n    var x = canvas_pos.x * mpl.ratio;\n    var y = canvas_pos.y * mpl.ratio;\n\n    this.send_message(name, {x: x, y: y, button: event.button,\n                             step: event.step,\n                             guiEvent: simpleKeys(event)});\n\n    /* This prevents the web browser from automatically changing to\n     * the text insertion cursor when the button is pressed.  We want\n     * to control all of the cursor setting manually through the\n     * 'cursor' event from matplotlib */\n    event.preventDefault();\n    return false;\n}\n\nmpl.figure.prototype._key_event_extra = function(event, name) {\n    // Handle any extra behaviour associated with a key event\n}\n\nmpl.figure.prototype.key_event = function(event, name) {\n\n    // Prevent repeat events\n    if (name == 'key_press')\n    {\n        if (event.which === this._key)\n            return;\n        else\n            this._key = event.which;\n    }\n    if (name == 'key_release')\n        this._key = null;\n\n    var value = '';\n    if (event.ctrlKey && event.which != 17)\n        value += \"ctrl+\";\n    if (event.altKey && event.which != 18)\n        value += \"alt+\";\n    if (event.shiftKey && event.which != 16)\n        value += \"shift+\";\n\n    value += 'k';\n    value += event.which.toString();\n\n    this._key_event_extra(event, name);\n\n    this.send_message(name, {key: value,\n                             guiEvent: simpleKeys(event)});\n    return false;\n}\n\nmpl.figure.prototype.toolbar_button_onclick = function(name) {\n    if (name == 'download') {\n        this.handle_save(this, null);\n    } else {\n        this.send_message(\"toolbar_button\", {name: name});\n    }\n};\n\nmpl.figure.prototype.toolbar_button_onmouseover = function(tooltip) {\n    this.message.textContent = tooltip;\n};\nmpl.toolbar_items = [[\"Home\", \"Reset original view\", \"fa fa-home icon-home\", \"home\"], [\"Back\", \"Back to previous view\", \"fa fa-arrow-left icon-arrow-left\", \"back\"], [\"Forward\", \"Forward to next view\", \"fa fa-arrow-right icon-arrow-right\", \"forward\"], [\"\", \"\", \"\", \"\"], [\"Pan\", \"Pan axes with left mouse, zoom with right\", \"fa fa-arrows icon-move\", \"pan\"], [\"Zoom\", \"Zoom to rectangle\", \"fa fa-square-o icon-check-empty\", \"zoom\"], [\"\", \"\", \"\", \"\"], [\"Download\", \"Download plot\", \"fa fa-floppy-o icon-save\", \"download\"]];\n\nmpl.extensions = [\"eps\", \"jpeg\", \"pdf\", \"png\", \"ps\", \"raw\", \"svg\", \"tif\"];\n\nmpl.default_extension = \"png\";var comm_websocket_adapter = function(comm) {\n    // Create a \"websocket\"-like object which calls the given IPython comm\n    // object with the appropriate methods. Currently this is a non binary\n    // socket, so there is still some room for performance tuning.\n    var ws = {};\n\n    ws.close = function() {\n        comm.close()\n    };\n    ws.send = function(m) {\n        //console.log('sending', m);\n        comm.send(m);\n    };\n    // Register the callback with on_msg.\n    comm.on_msg(function(msg) {\n        //console.log('receiving', msg['content']['data'], msg);\n        // Pass the mpl event to the overridden (by mpl) onmessage function.\n        ws.onmessage(msg['content']['data'])\n    });\n    return ws;\n}\n\nmpl.mpl_figure_comm = function(comm, msg) {\n    // This is the function which gets called when the mpl process\n    // starts-up an IPython Comm through the \"matplotlib\" channel.\n\n    var id = msg.content.data.id;\n    // Get hold of the div created by the display call when the Comm\n    // socket was opened in Python.\n    var element = $(\"#\" + id);\n    var ws_proxy = comm_websocket_adapter(comm)\n\n    function ondownload(figure, format) {\n        window.open(figure.imageObj.src);\n    }\n\n    var fig = new mpl.figure(id, ws_proxy,\n                           ondownload,\n                           element.get(0));\n\n    // Call onopen now - mpl needs it, as it is assuming we've passed it a real\n    // web socket which is closed, not our websocket->open comm proxy.\n    ws_proxy.onopen();\n\n    fig.parent_element = element.get(0);\n    fig.cell_info = mpl.find_output_cell(\"<div id='\" + id + \"'></div>\");\n    if (!fig.cell_info) {\n        console.error(\"Failed to find cell for figure\", id, fig);\n        return;\n    }\n\n    var output_index = fig.cell_info[2]\n    var cell = fig.cell_info[0];\n\n};\n\nmpl.figure.prototype.handle_close = function(fig, msg) {\n    var width = fig.canvas.width/mpl.ratio\n    fig.root.unbind('remove')\n\n    // Update the output cell to use the data from the current canvas.\n    fig.push_to_output();\n    var dataURL = fig.canvas.toDataURL();\n    // Re-enable the keyboard manager in IPython - without this line, in FF,\n    // the notebook keyboard shortcuts fail.\n    IPython.keyboard_manager.enable()\n    $(fig.parent_element).html('<img src=\"' + dataURL + '\" width=\"' + width + '\">');\n    fig.close_ws(fig, msg);\n}\n\nmpl.figure.prototype.close_ws = function(fig, msg){\n    fig.send_message('closing', msg);\n    // fig.ws.close()\n}\n\nmpl.figure.prototype.push_to_output = function(remove_interactive) {\n    // Turn the data on the canvas into data in the output cell.\n    var width = this.canvas.width/mpl.ratio\n    var dataURL = this.canvas.toDataURL();\n    this.cell_info[1]['text/html'] = '<img src=\"' + dataURL + '\" width=\"' + width + '\">';\n}\n\nmpl.figure.prototype.updated_canvas_event = function() {\n    // Tell IPython that the notebook contents must change.\n    IPython.notebook.set_dirty(true);\n    this.send_message(\"ack\", {});\n    var fig = this;\n    // Wait a second, then push the new image to the DOM so\n    // that it is saved nicely (might be nice to debounce this).\n    setTimeout(function () { fig.push_to_output() }, 1000);\n}\n\nmpl.figure.prototype._init_toolbar = function() {\n    var fig = this;\n\n    var nav_element = $('<div/>');\n    nav_element.attr('style', 'width: 100%');\n    this.root.append(nav_element);\n\n    // Define a callback function for later on.\n    function toolbar_event(event) {\n        return fig.toolbar_button_onclick(event['data']);\n    }\n    function toolbar_mouse_event(event) {\n        return fig.toolbar_button_onmouseover(event['data']);\n    }\n\n    for(var toolbar_ind in mpl.toolbar_items){\n        var name = mpl.toolbar_items[toolbar_ind][0];\n        var tooltip = mpl.toolbar_items[toolbar_ind][1];\n        var image = mpl.toolbar_items[toolbar_ind][2];\n        var method_name = mpl.toolbar_items[toolbar_ind][3];\n\n        if (!name) { continue; };\n\n        var button = $('<button class=\"btn btn-default\" href=\"#\" title=\"' + name + '\"><i class=\"fa ' + image + ' fa-lg\"></i></button>');\n        button.click(method_name, toolbar_event);\n        button.mouseover(tooltip, toolbar_mouse_event);\n        nav_element.append(button);\n    }\n\n    // Add the status bar.\n    var status_bar = $('<span class=\"mpl-message\" style=\"text-align:right; float: right;\"/>');\n    nav_element.append(status_bar);\n    this.message = status_bar[0];\n\n    // Add the close button to the window.\n    var buttongrp = $('<div class=\"btn-group inline pull-right\"></div>');\n    var button = $('<button class=\"btn btn-mini btn-primary\" href=\"#\" title=\"Stop Interaction\"><i class=\"fa fa-power-off icon-remove icon-large\"></i></button>');\n    button.click(function (evt) { fig.handle_close(fig, {}); } );\n    button.mouseover('Stop Interaction', toolbar_mouse_event);\n    buttongrp.append(button);\n    var titlebar = this.root.find($('.ui-dialog-titlebar'));\n    titlebar.prepend(buttongrp);\n}\n\nmpl.figure.prototype._root_extra_style = function(el){\n    var fig = this\n    el.on(\"remove\", function(){\n\tfig.close_ws(fig, {});\n    });\n}\n\nmpl.figure.prototype._canvas_extra_style = function(el){\n    // this is important to make the div 'focusable\n    el.attr('tabindex', 0)\n    // reach out to IPython and tell the keyboard manager to turn it's self\n    // off when our div gets focus\n\n    // location in version 3\n    if (IPython.notebook.keyboard_manager) {\n        IPython.notebook.keyboard_manager.register_events(el);\n    }\n    else {\n        // location in version 2\n        IPython.keyboard_manager.register_events(el);\n    }\n\n}\n\nmpl.figure.prototype._key_event_extra = function(event, name) {\n    var manager = IPython.notebook.keyboard_manager;\n    if (!manager)\n        manager = IPython.keyboard_manager;\n\n    // Check for shift+enter\n    if (event.shiftKey && event.which == 13) {\n        this.canvas_div.blur();\n        // select the cell after this one\n        var index = IPython.notebook.find_cell_index(this.cell_info[0]);\n        IPython.notebook.select(index + 1);\n    }\n}\n\nmpl.figure.prototype.handle_save = function(fig, msg) {\n    fig.ondownload(fig, null);\n}\n\n\nmpl.find_output_cell = function(html_output) {\n    // Return the cell and output element which can be found *uniquely* in the notebook.\n    // Note - this is a bit hacky, but it is done because the \"notebook_saving.Notebook\"\n    // IPython event is triggered only after the cells have been serialised, which for\n    // our purposes (turning an active figure into a static one), is too late.\n    var cells = IPython.notebook.get_cells();\n    var ncells = cells.length;\n    for (var i=0; i<ncells; i++) {\n        var cell = cells[i];\n        if (cell.cell_type === 'code'){\n            for (var j=0; j<cell.output_area.outputs.length; j++) {\n                var data = cell.output_area.outputs[j];\n                if (data.data) {\n                    // IPython >= 3 moved mimebundle to data attribute of output\n                    data = data.data;\n                }\n                if (data['text/html'] == html_output) {\n                    return [cell, data, j];\n                }\n            }\n        }\n    }\n}\n\n// Register the function which deals with the matplotlib target/channel.\n// The kernel may be null if the page has been refreshed.\nif (IPython.notebook.kernel != null) {\n    IPython.notebook.kernel.comm_manager.register_target('matplotlib', mpl.mpl_figure_comm);\n}\n",
      "text/plain": [
       "<IPython.core.display.Javascript object>"
      ]
     },
     "metadata": {},
     "output_type": "display_data"
    },
    {
     "data": {
      "text/html": [
       "<img src=\"data:image/png;base64,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\" width=\"640\">"
      ],
      "text/plain": [
       "<IPython.core.display.HTML object>"
      ]
     },
     "metadata": {},
     "output_type": "display_data"
    },
    {
     "data": {
      "text/plain": [
       "Text(0.5, 1.0, 'Hours vs Scores')"
      ]
     },
     "execution_count": 4,
     "metadata": {},
     "output_type": "execute_result"
    }
   ],
   "source": [
    "x = df[\"Hours\"]\n",
    "y = df[\"Scores\"]\n",
    "\n",
    "\n",
    "plt.plot(x,y,'o')        # 'o' thape pachi chai yesle scatter dots ma plotting dincha\n",
    "\n",
    "plt.xlabel(\"Hours\")\n",
    "plt.ylabel(\"Scores\")\n",
    "\n",
    "plt.title(\"Hours vs Scores\")\n",
    "\n",
    "# plt.show()             # yo plt.show() nalekhe pani plot tw display vai rako nai thyo.. yesako exact kaam k ho maile ni chyakka bujya chaina.. GOOGLE IT"
   ]
  },
  {
   "cell_type": "code",
   "execution_count": 5,
   "metadata": {},
   "outputs": [],
   "source": [
    "\n",
    "def plot_regression_line(X,m,b):\n",
    "    regression_y = []                   # regression_y vanni auta empty list create gareko\n",
    "    \n",
    "    for x in X.values:                  # x ko values jati ma for loop lagako\n",
    "        y = m*x + b                     # linear regression line nikalna ko lagi yo ko value predict gareko\n",
    "        regression_y.append(y)          # predict garera aayeko y ko value lai regression_y vanni list ma append gareko or add gardai gako\n",
    "    \n",
    "    return regression_y                 # regression_y vanni list lai return gareko"
   ]
  },
  {
   "cell_type": "code",
   "execution_count": 6,
   "metadata": {},
   "outputs": [],
   "source": [
    "def gradient_desc(all_x,all_y,m,b):             # khas yaha gradient_desc() method lai dine x value vaneko actually x_train data ho & y value vaneko actually y_train data ho\n",
    "    \n",
    "    total_error = 0                             # initializing total_error value to zero\n",
    "    \n",
    "    for x,y_actual in zip(all_x,all_y):         # The zip() function takes iterables, aggregates them in a tuple, and return it.\n",
    "        \n",
    "        y_pred = m*x + b                        # each (x,y) pair value lai y=mx=b formula use garera y prediction gareko \n",
    "        \n",
    "        error = y_pred - y_actual               # calculating error or how much our prediction was not good\n",
    "        \n",
    "        total_error += error                    # error jati lai total_error vanni variable ma rakheko\n",
    "        \n",
    "        delta_m = error * x                 # delta_m gives the which direction to move # Note : yedi hamro error ekdam dherai aayo vani.. hamro delta_m pani ekdam high aaucha...delta_m nai dherai aayo vayo hami local minima point vanda antai para pugna pani sakincha ... so testo nahuna lagi  delta_m * 0.1  gareko\n",
    "        delta_b = error\n",
    "        \n",
    "        m = m - delta_m * 0.01                   # since slope ko opposite direction ma move gare matra hami curve ko local minima point ma pugna sakincha so tei vayera slope ko chai opposite dirction ma move garos vanera yo line ma -ve rakheko # yo line ko 0.1 lai chai learning rate pani vanne garincha.. # this learning rate defines how much to move\n",
    "        b = b - delta_b * 0.01\n",
    "        \n",
    "        \n",
    "     \n",
    "    return m,b,total_error                      # returning the values\n",
    "    \n",
    "    "
   ]
  },
  {
   "cell_type": "code",
   "execution_count": 7,
   "metadata": {},
   "outputs": [],
   "source": [
    "x = df[\"Hours\"]\n",
    "y = df[\"Scores\"]\n",
    "plt.plot(x,y,'o')\n",
    "plt.xlabel(\"Hours\")\n",
    "plt.ylabel(\"Scores\")\n",
    "plt.title(\"Hours vs Scores\")\n",
    "\n",
    "m=0;b=0        # Initial value of m(slope) & b(y-intercept)\n",
    "\n",
    "for i in range(0,10):\n",
    "    m,b,total_error = gradient_desc(x,y,m,b)            #calling gradient_desc() method\n",
    "    regression_line = plot_regression_line(x,m,b)       #calling plot_regression_line() method\n",
    "    plt.plot(x,regression_line)\n",
    "plt.show()"
   ]
  },
  {
   "cell_type": "code",
   "execution_count": 8,
   "metadata": {},
   "outputs": [
    {
     "name": "stdout",
     "output_type": "stream",
     "text": [
      "10.67015109257158 1.733555380086608\n"
     ]
    }
   ],
   "source": [
    "print(m,b)"
   ]
  },
  {
   "cell_type": "code",
   "execution_count": null,
   "metadata": {},
   "outputs": [],
   "source": []
  }
 ],
 "metadata": {
  "kernelspec": {
   "display_name": "Python 3.7.6 64-bit",
   "language": "python",
   "name": "python37664bit9ec3f0862a4f47d58f0c79f5f460aff7"
  },
  "language_info": {
   "codemirror_mode": {
    "name": "ipython",
    "version": 3
   },
   "file_extension": ".py",
   "mimetype": "text/x-python",
   "name": "python",
   "nbconvert_exporter": "python",
   "pygments_lexer": "ipython3",
   "version": "3.7.6"
  }
 },
 "nbformat": 4,
 "nbformat_minor": 2
}
